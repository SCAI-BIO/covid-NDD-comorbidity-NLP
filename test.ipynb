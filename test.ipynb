{
 "cells": [
  {
   "cell_type": "code",
   "execution_count": 7,
   "source": [
    "from src import *\r\n",
    "from hypothesis_graph_database_upload import DataPipelineRunner, Neo4jConfig\r\n",
    "\r\n",
    "# Configure Neo4j connection\r\n",
    "config = Neo4jConfig(\r\n",
    "    uri=\"your_neo4j_uri\",\r\n",
    "    user=\"your_username\",\r\n",
    "    password=\"your_password\"\r\n",
    ")\r\n",
    "\r\n",
    "# Run pipeline\r\n",
    "runner = DataPipelineRunner(config)\r\n",
    "runner.run(\r\n",
    "    triple_file=\"path/to/cleaned_all_db_association.csv\",\r\n",
    "    pathway_file=\"path/to/your/hypothesis_pmid_evidences.csv\",\r\n",
    "    gwas_file=\"path/to/your/shared-variants.xlsx\"\r\n",
    ")"
   ],
   "outputs": [
    {
     "output_type": "stream",
     "name": "stderr",
     "text": [
      "2024-12-16 11:49:19,646 - root - WARNING - Hypothesis file not found: path/to/cleaned_all_db_association.csv\n",
      "2024-12-16 11:49:19,647 - root - WARNING - Pathway file not found: path/to/your/hypothesis_pmid_evidences.csv\n",
      "2024-12-16 11:49:19,647 - root - WARNING - GWAS file not found: path/to/your/shared-variants.xlsx\n",
      "2024-12-16 11:49:19,648 - root - INFO - Pipeline completed: 0/3 processes successful\n",
      "2024-12-16 11:49:19,648 - root - WARNING - Failed processes: hypothesis, pathway, gwas\n"
     ]
    }
   ],
   "metadata": {}
  }
 ],
 "metadata": {
  "orig_nbformat": 4,
  "language_info": {
   "name": "python",
   "version": "3.12.0",
   "mimetype": "text/x-python",
   "codemirror_mode": {
    "name": "ipython",
    "version": 3
   },
   "pygments_lexer": "ipython3",
   "nbconvert_exporter": "python",
   "file_extension": ".py"
  },
  "kernelspec": {
   "name": "python3",
   "display_name": "Python 3.12.0 64-bit"
  },
  "interpreter": {
   "hash": "d6ca1284c7bd7ae5870c8ab738ede617c834b0c6d27e733d7d2a522b2e1e0f98"
  }
 },
 "nbformat": 4,
 "nbformat_minor": 2
}